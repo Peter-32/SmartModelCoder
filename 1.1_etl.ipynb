{
 "cells": [
  {
   "cell_type": "code",
   "execution_count": null,
   "id": "9d018bdd",
   "metadata": {},
   "outputs": [],
   "source": [
    "# Query a database or read a CSV file here...\n",
    "    # Minimize Memory Requirement: Thin the data using the following: filtering, aggregation, or converting strings to other datatypes\n",
    "    # Faster Speed: Use the database's index or partition to speed up extraction\n",
    "    # CSV/Database: Use Pandas 99% of the time.  Parquet: Use Pandas 80% of the time and Spark 20% of the time.\n",
    "\n",
    "\n",
    "\n",
    "# Minor cleanup changes in Python\n",
    "\n",
    "\n",
    "\n",
    "\n",
    "# Save to a CSV file\n",
    "\n"
   ]
  },
  {
   "cell_type": "code",
   "execution_count": null,
   "id": "2321bfbe",
   "metadata": {},
   "outputs": [],
   "source": []
  }
 ],
 "metadata": {},
 "nbformat": 4,
 "nbformat_minor": 5
}

{
 "cells": [
  {
   "cell_type": "markdown",
   "metadata": {},
   "source": [
    "Testing 123"
   ]
  },
  {
   "cell_type": "code",
   "execution_count": 2,
   "metadata": {},
   "outputs": [
    {
     "name": "stdout",
     "output_type": "stream",
     "text": [
      "Button clicked!\n",
      "Button clicked!\n",
      "Button clicked!\n",
      "Button clicked!\n"
     ]
    }
   ],
   "source": [
    "%gui tk\n",
    "import tkinter as tk\n",
    "\n",
    "# Create a new window\n",
    "window = tk.Tk()\n",
    "\n",
    "# Function to handle button click event\n",
    "def button_click():\n",
    "    print(\"Button clicked!\")\n",
    "\n",
    "# Create four buttons\n",
    "button1 = tk.Button(window, text=\"Analyze notebooks for readability\", command=button_click)\n",
    "button2 = tk.Button(window, text=\"Create an ETL Notebook\", command=button_click)\n",
    "button3 = tk.Button(window, text=\"Create new features\", command=button_click)\n",
    "button4 = tk.Button(window, text=\"Create a model\", command=button_click)\n",
    "\n",
    "# Pack the buttons into the window\n",
    "button1.pack()\n",
    "button2.pack()\n",
    "button3.pack()\n",
    "button4.pack()"
   ]
  },
  {
   "cell_type": "code",
   "execution_count": 3,
   "metadata": {},
   "outputs": [
    {
     "data": {
      "text/plain": [
       "['Main.ipynb']"
      ]
     },
     "execution_count": 3,
     "metadata": {},
     "output_type": "execute_result"
    }
   ],
   "source": [
    "from glob import glob\n",
    "files = glob(\"*.ipynb\")\n",
    "files"
   ]
  },
  {
   "cell_type": "code",
   "execution_count": 13,
   "metadata": {},
   "outputs": [],
   "source": [
    "import nbformat\n",
    "from nbformat import read, write"
   ]
  },
  {
   "cell_type": "code",
   "execution_count": 14,
   "metadata": {},
   "outputs": [
    {
     "data": {
      "text/plain": [
       "{'cells': [{'cell_type': 'markdown', 'metadata': {}, 'source': 'Testing 123'},\n",
       "  {'cell_type': 'code',\n",
       "   'execution_count': 2,\n",
       "   'metadata': {},\n",
       "   'outputs': [{'name': 'stdout',\n",
       "     'output_type': 'stream',\n",
       "     'text': 'Button clicked!\\nButton clicked!\\nButton clicked!\\nButton clicked!\\n'}],\n",
       "   'source': '%gui tk\\nimport tkinter as tk\\n\\n# Create a new window\\nwindow = tk.Tk()\\n\\n# Function to handle button click event\\ndef button_click():\\n    print(\"Button clicked!\")\\n\\n# Create four buttons\\nbutton1 = tk.Button(window, text=\"Analyze notebooks for readability\", command=button_click)\\nbutton2 = tk.Button(window, text=\"Create an ETL Notebook\", command=button_click)\\nbutton3 = tk.Button(window, text=\"Create new features\", command=button_click)\\nbutton4 = tk.Button(window, text=\"Create a model\", command=button_click)\\n\\n# Pack the buttons into the window\\nbutton1.pack()\\nbutton2.pack()\\nbutton3.pack()\\nbutton4.pack()'},\n",
       "  {'cell_type': 'code',\n",
       "   'execution_count': 3,\n",
       "   'metadata': {},\n",
       "   'outputs': [{'data': {'text/plain': \"['Main.ipynb']\"},\n",
       "     'execution_count': 3,\n",
       "     'metadata': {},\n",
       "     'output_type': 'execute_result'}],\n",
       "   'source': 'from glob import glob\\nfiles = glob(\"*.ipynb\")\\nfiles'},\n",
       "  {'cell_type': 'code',\n",
       "   'execution_count': 5,\n",
       "   'metadata': {},\n",
       "   'outputs': [],\n",
       "   'source': 'import nbformat\\nfrom nbformat import read, write'},\n",
       "  {'cell_type': 'code',\n",
       "   'execution_count': 6,\n",
       "   'metadata': {},\n",
       "   'outputs': [{'data': {'text/plain': '{\\'cells\\': [{\\'cell_type\\': \\'code\\',\\n   \\'execution_count\\': 2,\\n   \\'metadata\\': {},\\n   \\'outputs\\': [{\\'name\\': \\'stdout\\',\\n     \\'output_type\\': \\'stream\\',\\n     \\'text\\': \\'Button clicked!\\\\nButton clicked!\\\\nButton clicked!\\\\nButton clicked!\\\\n\\'}],\\n   \\'source\\': \\'%gui tk\\\\nimport tkinter as tk\\\\n\\\\n# Create a new window\\\\nwindow = tk.Tk()\\\\n\\\\n# Function to handle button click event\\\\ndef button_click():\\\\n    print(\"Button clicked!\")\\\\n\\\\n# Create four buttons\\\\nbutton1 = tk.Button(window, text=\"Analyze notebooks for readability\", command=button_click)\\\\nbutton2 = tk.Button(window, text=\"Create an ETL Notebook\", command=button_click)\\\\nbutton3 = tk.Button(window, text=\"Create new features\", command=button_click)\\\\nbutton4 = tk.Button(window, text=\"Create a model\", command=button_click)\\\\n\\\\n# Pack the buttons into the window\\\\nbutton1.pack()\\\\nbutton2.pack()\\\\nbutton3.pack()\\\\nbutton4.pack()\\'},\\n  {\\'cell_type\\': \\'code\\',\\n   \\'execution_count\\': 3,\\n   \\'metadata\\': {},\\n   \\'outputs\\': [{\\'data\\': {\\'text/plain\\': \"[\\'Main.ipynb\\']\"},\\n     \\'execution_count\\': 3,\\n     \\'metadata\\': {},\\n     \\'output_type\\': \\'execute_result\\'}],\\n   \\'source\\': \\'from glob import glob\\\\nfiles = glob(\"*.ipynb\")\\\\nfiles\\'},\\n  {\\'cell_type\\': \\'code\\',\\n   \\'execution_count\\': None,\\n   \\'metadata\\': {},\\n   \\'outputs\\': [],\\n   \\'source\\': \\'\\'}],\\n \\'metadata\\': {\\'kernelspec\\': {\\'display_name\\': \\'Python 3\\',\\n   \\'language\\': \\'python\\',\\n   \\'name\\': \\'python3\\'}},\\n \\'nbformat\\': 4,\\n \\'nbformat_minor\\': 5}'},\n",
       "     'execution_count': 6,\n",
       "     'metadata': {},\n",
       "     'output_type': 'execute_result'}],\n",
       "   'source': \"file = files[0]\\nwith open(file, 'r') as f:\\n    notebook = read(f, nbformat.NO_CONVERT)\\nnotebook\"},\n",
       "  {'cell_type': 'code',\n",
       "   'execution_count': 12,\n",
       "   'metadata': {},\n",
       "   'outputs': [{'data': {'text/plain': '[{\\'cell_type\\': \\'code\\',\\n  \\'execution_count\\': 2,\\n  \\'metadata\\': {},\\n  \\'outputs\\': [{\\'name\\': \\'stdout\\',\\n    \\'output_type\\': \\'stream\\',\\n    \\'text\\': \\'Button clicked!\\\\nButton clicked!\\\\nButton clicked!\\\\nButton clicked!\\\\n\\'}],\\n  \\'source\\': \\'%gui tk\\\\nimport tkinter as tk\\\\n\\\\n# Create a new window\\\\nwindow = tk.Tk()\\\\n\\\\n# Function to handle button click event\\\\ndef button_click():\\\\n    print(\"Button clicked!\")\\\\n\\\\n# Create four buttons\\\\nbutton1 = tk.Button(window, text=\"Analyze notebooks for readability\", command=button_click)\\\\nbutton2 = tk.Button(window, text=\"Create an ETL Notebook\", command=button_click)\\\\nbutton3 = tk.Button(window, text=\"Create new features\", command=button_click)\\\\nbutton4 = tk.Button(window, text=\"Create a model\", command=button_click)\\\\n\\\\n# Pack the buttons into the window\\\\nbutton1.pack()\\\\nbutton2.pack()\\\\nbutton3.pack()\\\\nbutton4.pack()\\'},\\n {\\'cell_type\\': \\'code\\',\\n  \\'execution_count\\': 3,\\n  \\'metadata\\': {},\\n  \\'outputs\\': [{\\'data\\': {\\'text/plain\\': \"[\\'Main.ipynb\\']\"},\\n    \\'execution_count\\': 3,\\n    \\'metadata\\': {},\\n    \\'output_type\\': \\'execute_result\\'}],\\n  \\'source\\': \\'from glob import glob\\\\nfiles = glob(\"*.ipynb\")\\\\nfiles\\'},\\n {\\'cell_type\\': \\'code\\',\\n  \\'execution_count\\': None,\\n  \\'metadata\\': {},\\n  \\'outputs\\': [],\\n  \\'source\\': \\'\\'}]'},\n",
       "     'execution_count': 12,\n",
       "     'metadata': {},\n",
       "     'output_type': 'execute_result'}],\n",
       "   'source': \"cells = [x for x in notebook['cells'] if x['cell_type'] == 'code']\\ncells\"},\n",
       "  {'cell_type': 'code',\n",
       "   'execution_count': None,\n",
       "   'metadata': {},\n",
       "   'outputs': [],\n",
       "   'source': \"for cell in cells:\\n    if cell['cell_type'] == 'code'\"}],\n",
       " 'metadata': {'kernelspec': {'display_name': 'Python 3',\n",
       "   'language': 'python',\n",
       "   'name': 'python3'}},\n",
       " 'nbformat': 4,\n",
       " 'nbformat_minor': 5}"
      ]
     },
     "execution_count": 14,
     "metadata": {},
     "output_type": "execute_result"
    }
   ],
   "source": [
    "file = files[0]\n",
    "with open(file, 'r') as f:\n",
    "    notebook = read(f, nbformat.NO_CONVERT)\n",
    "notebook"
   ]
  },
  {
   "cell_type": "code",
   "execution_count": 17,
   "metadata": {},
   "outputs": [
    {
     "data": {
      "text/plain": [
       "[{'cell_type': 'code',\n",
       "  'execution_count': 2,\n",
       "  'metadata': {},\n",
       "  'outputs': [{'name': 'stdout',\n",
       "    'output_type': 'stream',\n",
       "    'text': 'Button clicked!\\nButton clicked!\\nButton clicked!\\nButton clicked!\\n'}],\n",
       "  'source': '%gui tk\\nimport tkinter as tk\\n\\n# Create a new window\\nwindow = tk.Tk()\\n\\n# Function to handle button click event\\ndef button_click():\\n    print(\"Button clicked!\")\\n\\n# Create four buttons\\nbutton1 = tk.Button(window, text=\"Analyze notebooks for readability\", command=button_click)\\nbutton2 = tk.Button(window, text=\"Create an ETL Notebook\", command=button_click)\\nbutton3 = tk.Button(window, text=\"Create new features\", command=button_click)\\nbutton4 = tk.Button(window, text=\"Create a model\", command=button_click)\\n\\n# Pack the buttons into the window\\nbutton1.pack()\\nbutton2.pack()\\nbutton3.pack()\\nbutton4.pack()'},\n",
       " {'cell_type': 'code',\n",
       "  'execution_count': 3,\n",
       "  'metadata': {},\n",
       "  'outputs': [{'data': {'text/plain': \"['Main.ipynb']\"},\n",
       "    'execution_count': 3,\n",
       "    'metadata': {},\n",
       "    'output_type': 'execute_result'}],\n",
       "  'source': 'from glob import glob\\nfiles = glob(\"*.ipynb\")\\nfiles'},\n",
       " {'cell_type': 'code',\n",
       "  'execution_count': 5,\n",
       "  'metadata': {},\n",
       "  'outputs': [],\n",
       "  'source': 'import nbformat\\nfrom nbformat import read, write'},\n",
       " {'cell_type': 'code',\n",
       "  'execution_count': 6,\n",
       "  'metadata': {},\n",
       "  'outputs': [{'data': {'text/plain': '{\\'cells\\': [{\\'cell_type\\': \\'code\\',\\n   \\'execution_count\\': 2,\\n   \\'metadata\\': {},\\n   \\'outputs\\': [{\\'name\\': \\'stdout\\',\\n     \\'output_type\\': \\'stream\\',\\n     \\'text\\': \\'Button clicked!\\\\nButton clicked!\\\\nButton clicked!\\\\nButton clicked!\\\\n\\'}],\\n   \\'source\\': \\'%gui tk\\\\nimport tkinter as tk\\\\n\\\\n# Create a new window\\\\nwindow = tk.Tk()\\\\n\\\\n# Function to handle button click event\\\\ndef button_click():\\\\n    print(\"Button clicked!\")\\\\n\\\\n# Create four buttons\\\\nbutton1 = tk.Button(window, text=\"Analyze notebooks for readability\", command=button_click)\\\\nbutton2 = tk.Button(window, text=\"Create an ETL Notebook\", command=button_click)\\\\nbutton3 = tk.Button(window, text=\"Create new features\", command=button_click)\\\\nbutton4 = tk.Button(window, text=\"Create a model\", command=button_click)\\\\n\\\\n# Pack the buttons into the window\\\\nbutton1.pack()\\\\nbutton2.pack()\\\\nbutton3.pack()\\\\nbutton4.pack()\\'},\\n  {\\'cell_type\\': \\'code\\',\\n   \\'execution_count\\': 3,\\n   \\'metadata\\': {},\\n   \\'outputs\\': [{\\'data\\': {\\'text/plain\\': \"[\\'Main.ipynb\\']\"},\\n     \\'execution_count\\': 3,\\n     \\'metadata\\': {},\\n     \\'output_type\\': \\'execute_result\\'}],\\n   \\'source\\': \\'from glob import glob\\\\nfiles = glob(\"*.ipynb\")\\\\nfiles\\'},\\n  {\\'cell_type\\': \\'code\\',\\n   \\'execution_count\\': None,\\n   \\'metadata\\': {},\\n   \\'outputs\\': [],\\n   \\'source\\': \\'\\'}],\\n \\'metadata\\': {\\'kernelspec\\': {\\'display_name\\': \\'Python 3\\',\\n   \\'language\\': \\'python\\',\\n   \\'name\\': \\'python3\\'}},\\n \\'nbformat\\': 4,\\n \\'nbformat_minor\\': 5}'},\n",
       "    'execution_count': 6,\n",
       "    'metadata': {},\n",
       "    'output_type': 'execute_result'}],\n",
       "  'source': \"file = files[0]\\nwith open(file, 'r') as f:\\n    notebook = read(f, nbformat.NO_CONVERT)\\nnotebook\"},\n",
       " {'cell_type': 'code',\n",
       "  'execution_count': 12,\n",
       "  'metadata': {},\n",
       "  'outputs': [{'data': {'text/plain': '[{\\'cell_type\\': \\'code\\',\\n  \\'execution_count\\': 2,\\n  \\'metadata\\': {},\\n  \\'outputs\\': [{\\'name\\': \\'stdout\\',\\n    \\'output_type\\': \\'stream\\',\\n    \\'text\\': \\'Button clicked!\\\\nButton clicked!\\\\nButton clicked!\\\\nButton clicked!\\\\n\\'}],\\n  \\'source\\': \\'%gui tk\\\\nimport tkinter as tk\\\\n\\\\n# Create a new window\\\\nwindow = tk.Tk()\\\\n\\\\n# Function to handle button click event\\\\ndef button_click():\\\\n    print(\"Button clicked!\")\\\\n\\\\n# Create four buttons\\\\nbutton1 = tk.Button(window, text=\"Analyze notebooks for readability\", command=button_click)\\\\nbutton2 = tk.Button(window, text=\"Create an ETL Notebook\", command=button_click)\\\\nbutton3 = tk.Button(window, text=\"Create new features\", command=button_click)\\\\nbutton4 = tk.Button(window, text=\"Create a model\", command=button_click)\\\\n\\\\n# Pack the buttons into the window\\\\nbutton1.pack()\\\\nbutton2.pack()\\\\nbutton3.pack()\\\\nbutton4.pack()\\'},\\n {\\'cell_type\\': \\'code\\',\\n  \\'execution_count\\': 3,\\n  \\'metadata\\': {},\\n  \\'outputs\\': [{\\'data\\': {\\'text/plain\\': \"[\\'Main.ipynb\\']\"},\\n    \\'execution_count\\': 3,\\n    \\'metadata\\': {},\\n    \\'output_type\\': \\'execute_result\\'}],\\n  \\'source\\': \\'from glob import glob\\\\nfiles = glob(\"*.ipynb\")\\\\nfiles\\'},\\n {\\'cell_type\\': \\'code\\',\\n  \\'execution_count\\': None,\\n  \\'metadata\\': {},\\n  \\'outputs\\': [],\\n  \\'source\\': \\'\\'}]'},\n",
       "    'execution_count': 12,\n",
       "    'metadata': {},\n",
       "    'output_type': 'execute_result'}],\n",
       "  'source': \"cells = [x for x in notebook['cells'] if x['cell_type'] == 'code']\\ncells\"},\n",
       " {'cell_type': 'code',\n",
       "  'execution_count': None,\n",
       "  'metadata': {},\n",
       "  'outputs': [],\n",
       "  'source': \"for cell in cells:\\n    if cell['cell_type'] == 'code'\"}]"
      ]
     },
     "execution_count": 17,
     "metadata": {},
     "output_type": "execute_result"
    }
   ],
   "source": [
    "cells = [x for x in notebook['cells'] if x['cell_type'] == 'code']\n",
    "cells"
   ]
  },
  {
   "cell_type": "code",
   "execution_count": 20,
   "metadata": {},
   "outputs": [
    {
     "data": {
      "text/plain": [
       "6"
      ]
     },
     "execution_count": 20,
     "metadata": {},
     "output_type": "execute_result"
    }
   ],
   "source": [
    "if len(cells) > 1:"
   ]
  },
  {
   "cell_type": "code",
   "execution_count": 19,
   "metadata": {},
   "outputs": [
    {
     "name": "stdout",
     "output_type": "stream",
     "text": [
      "%gui tk\n",
      "import tkinter as tk\n",
      "\n",
      "# Create a new window\n",
      "window = tk.Tk()\n",
      "\n",
      "# Function to handle button click event\n",
      "def button_click():\n",
      "    print(\"Button clicked!\")\n",
      "\n",
      "# Create four buttons\n",
      "button1 = tk.Button(window, text=\"Analyze notebooks for readability\", command=button_click)\n",
      "button2 = tk.Button(window, text=\"Create an ETL Notebook\", command=button_click)\n",
      "button3 = tk.Button(window, text=\"Create new features\", command=button_click)\n",
      "button4 = tk.Button(window, text=\"Create a model\", command=button_click)\n",
      "\n",
      "# Pack the buttons into the window\n",
      "button1.pack()\n",
      "button2.pack()\n",
      "button3.pack()\n",
      "button4.pack()\n",
      "END\n",
      "from glob import glob\n",
      "files = glob(\"*.ipynb\")\n",
      "files\n",
      "END\n",
      "import nbformat\n",
      "from nbformat import read, write\n",
      "END\n",
      "file = files[0]\n",
      "with open(file, 'r') as f:\n",
      "    notebook = read(f, nbformat.NO_CONVERT)\n",
      "notebook\n",
      "END\n",
      "cells = [x for x in notebook['cells'] if x['cell_type'] == 'code']\n",
      "cells\n",
      "END\n",
      "for cell in cells:\n",
      "    if cell['cell_type'] == 'code'\n",
      "END\n"
     ]
    }
   ],
   "source": [
    "for cell in cells:\n",
    "    code = cell['source']\n",
    "    print(code)\n",
    "    print(\"END\")"
   ]
  },
  {
   "cell_type": "code",
   "execution_count": null,
   "metadata": {},
   "outputs": [],
   "source": []
  }
 ],
 "metadata": {
  "kernelspec": {
   "display_name": "Python 3",
   "language": "python",
   "name": "python3"
  },
  "language_info": {
   "codemirror_mode": {
    "name": "ipython",
    "version": 3
   },
   "file_extension": ".py",
   "mimetype": "text/x-python",
   "name": "python",
   "nbconvert_exporter": "python",
   "pygments_lexer": "ipython3",
   "version": "3.9.0"
  }
 },
 "nbformat": 4,
 "nbformat_minor": 5
}

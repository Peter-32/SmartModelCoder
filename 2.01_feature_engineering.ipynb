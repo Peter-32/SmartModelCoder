{
 "cells": [
  {
   "cell_type": "code",
   "execution_count": null,
   "id": "9f243582",
   "metadata": {},
   "outputs": [],
   "source": [
    "for cv_split in range(1,6):\n",
    "    # Read in the train_{cv_split}, validation_{cv_split}, and test\n",
    "    \n",
    "    # Create the new features\n",
    "    \n",
    "    break # Remove this break when this is tested\n",
    "    \n",
    "    # Select the key column and all new features\n",
    "    \n",
    "    # Save to a new CV file called 2.1_feature_engineering_cv_{cv_split}\n",
    "    # Append the validation and test set to this same CSV file\n",
    "    \n"
   ]
  },
  {
   "cell_type": "code",
   "execution_count": null,
   "id": "f806f737",
   "metadata": {},
   "outputs": [],
   "source": []
  }
 ],
 "metadata": {},
 "nbformat": 4,
 "nbformat_minor": 5
}

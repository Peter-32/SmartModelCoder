{
 "cells": [
  {
   "cell_type": "code",
   "execution_count": null,
   "id": "8843c29a",
   "metadata": {},
   "outputs": [],
   "source": [
    "evalution_results = []\n",
    "for cv_split in range(1, 6):\n",
    "    # Read in the train_{cv_split}, validation_{cv_split}, and test\n",
    "    \n",
    "    for feature_df in range(1, 20):\n",
    "        # Read in the features file for this cv_split\n",
    "        # Join it to the existing dataframes\n",
    "    \n",
    "    # Run the fit and predict\n",
    "    \n",
    "    # Compute the evaluation result (single number metric)\n",
    "    \n",
    "    # append to evalution_results\n",
    "    \n",
    "# Check the evaluation results of all 5 results in evalution_results\n",
    "    \n",
    "    \n"
   ]
  },
  {
   "cell_type": "code",
   "execution_count": null,
   "id": "a6b5fe51",
   "metadata": {},
   "outputs": [],
   "source": []
  }
 ],
 "metadata": {},
 "nbformat": 4,
 "nbformat_minor": 5
}

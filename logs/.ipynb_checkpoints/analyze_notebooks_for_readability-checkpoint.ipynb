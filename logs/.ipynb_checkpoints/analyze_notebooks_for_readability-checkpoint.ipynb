{
 "cells": [
  {
   "cell_type": "code",
   "execution_count": 1,
   "id": "5b6d6220",
   "metadata": {
    "execution": {
     "iopub.execute_input": "2023-06-30T21:50:04.128157Z",
     "iopub.status.busy": "2023-06-30T21:50:04.128157Z",
     "iopub.status.idle": "2023-06-30T21:50:04.237413Z",
     "shell.execute_reply": "2023-06-30T21:50:04.236910Z"
    },
    "papermill": {
     "duration": 0.111765,
     "end_time": "2023-06-30T21:50:04.237915",
     "exception": false,
     "start_time": "2023-06-30T21:50:04.126150",
     "status": "completed"
    },
    "tags": []
   },
   "outputs": [
    {
     "name": "stdout",
     "output_type": "stream",
     "text": [
      "\n",
      "Successes\n",
      "==========\n",
      "analyze_notebooks_for_readability.ipynb\n",
      "\n",
      "Failures\n",
      "========\n",
      "tkinter.ipynb\n",
      "\n",
      "Action Needed\n",
      "==============\n",
      "Fix the failures by combining the cells together.  The shortcut to do this is esc->shift+m.\n",
      "\n"
     ]
    }
   ],
   "source": [
    "import nbformat\n",
    "from glob import glob\n",
    "from nbformat import read, write\n",
    "\n",
    "files = glob(\"*.ipynb\")\n",
    "success_files = []\n",
    "failure_files = []\n",
    "\n",
    "for file in files:\n",
    "    with open(file, 'r') as f:\n",
    "        notebook = read(f, nbformat.NO_CONVERT)\n",
    "    cells = [x for x in notebook['cells'] if x['cell_type'] == 'code']\n",
    "    if len(cells) <= 1 or (len(cells) == 2 and cells[-1].source.strip() == ''):\n",
    "        success_files.append(file)\n",
    "    else:\n",
    "        failure_files.append(file)\n",
    "action_needed_message = \"Looks perfect.\" if len(failure_files) == 0 else \"\"\"Action Needed\n",
    "==============\n",
    "Fix the failures by combining the cells together.  The shortcut to do this is esc->shift+m.\"\"\" \n",
    "failure_files_title = \"\" if len(failure_files) == 0 else \"\"\"\\n\\nFailures\n",
    "========\\n\"\"\"\n",
    "success_files = \"\\n\".join(success_files)\n",
    "failure_files = \"\\n\".join(failure_files)\n",
    "print(f\"\"\"\n",
    "Successes\n",
    "==========\n",
    "{success_files}{failure_files_title}{failure_files}\n",
    "\n",
    "{action_needed_message}\n",
    "\"\"\")"
   ]
  },
  {
   "cell_type": "code",
   "execution_count": null,
   "id": "3302fe2f",
   "metadata": {},
   "outputs": [],
   "source": []
  }
 ],
 "metadata": {
  "kernelspec": {
   "display_name": "Python 3 (ipykernel)",
   "language": "python",
   "name": "python3"
  },
  "language_info": {
   "codemirror_mode": {
    "name": "ipython",
    "version": 3
   },
   "file_extension": ".py",
   "mimetype": "text/x-python",
   "name": "python",
   "nbconvert_exporter": "python",
   "pygments_lexer": "ipython3",
   "version": "3.10.11"
  },
  "papermill": {
   "default_parameters": {},
   "duration": null,
   "end_time": null,
   "environment_variables": {},
   "exception": null,
   "input_path": "analyze_notebooks_for_readability.ipynb",
   "output_path": "logs/analyze_notebooks_for_readability.ipynb",
   "parameters": {},
   "start_time": "2023-06-30T21:50:02.807915",
   "version": "2.4.0"
  }
 },
 "nbformat": 4,
 "nbformat_minor": 5
}

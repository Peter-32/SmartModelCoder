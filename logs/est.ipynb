{
 "cells": [
  {
   "cell_type": "code",
   "execution_count": 1,
   "id": "bd24226a",
   "metadata": {
    "execution": {
     "iopub.execute_input": "2023-06-30T22:00:34.726665Z",
     "iopub.status.busy": "2023-06-30T22:00:34.726665Z",
     "iopub.status.idle": "2023-06-30T22:00:34.739611Z",
     "shell.execute_reply": "2023-06-30T22:00:34.739611Z"
    },
    "papermill": {
     "duration": 0.016985,
     "end_time": "2023-06-30T22:00:34.740650",
     "exception": false,
     "start_time": "2023-06-30T22:00:34.723665",
     "status": "completed"
    },
    "tags": []
   },
   "outputs": [
    {
     "data": {
      "text/plain": [
       "2"
      ]
     },
     "execution_count": 1,
     "metadata": {},
     "output_type": "execute_result"
    }
   ],
   "source": [
    "1+1"
   ]
  },
  {
   "cell_type": "code",
   "execution_count": null,
   "id": "b667dad5",
   "metadata": {
    "papermill": {
     "duration": 0.001,
     "end_time": "2023-06-30T22:00:34.743155",
     "exception": false,
     "start_time": "2023-06-30T22:00:34.742155",
     "status": "completed"
    },
    "tags": []
   },
   "outputs": [],
   "source": []
  }
 ],
 "metadata": {
  "kernelspec": {
   "display_name": "Python 3 (ipykernel)",
   "language": "python",
   "name": "python3"
  },
  "language_info": {
   "codemirror_mode": {
    "name": "ipython",
    "version": 3
   },
   "file_extension": ".py",
   "mimetype": "text/x-python",
   "name": "python",
   "nbconvert_exporter": "python",
   "pygments_lexer": "ipython3",
   "version": "3.10.11"
  },
  "papermill": {
   "default_parameters": {},
   "duration": 553.152166,
   "end_time": "2023-06-30T22:09:46.570107",
   "environment_variables": {},
   "exception": null,
   "input_path": "est.ipynb",
   "output_path": "logs/est.ipynb",
   "parameters": {},
   "start_time": "2023-06-30T22:00:33.417941",
   "version": "2.4.0"
  }
 },
 "nbformat": 4,
 "nbformat_minor": 5
}
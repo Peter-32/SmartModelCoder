{
 "cells": [
  {
   "cell_type": "code",
   "execution_count": 1,
   "id": "cb7e3182",
   "metadata": {},
   "outputs": [],
   "source": [
    "%gui tk\n",
    "\n",
    "import tkinter as tk\n",
    "from backroom import *\n",
    "\n",
    "# Create a new window\n",
    "window = tk.Tk()\n",
    "\n",
    "# Function to handle button click event\n",
    "def button_click1():\n",
    "    text.delete(\"1.0\", tk.END)\n",
    "    text.insert(tk.END, analyze_notebooks_for_readability() + \"\\n\")\n",
    "    \n",
    "def button_click2():\n",
    "    text.delete(\"1.0\", tk.END)\n",
    "    text.insert(tk.END, create_etl_notebook() + \"\\n\")\n",
    "    \n",
    "def button_click3():\n",
    "    text.delete(\"1.0\", tk.END)\n",
    "    text.insert(tk.END, create_split_notebook() + \"\\n\")\n",
    "    \n",
    "def button_click4():\n",
    "    text.delete(\"1.0\", tk.END)\n",
    "    text.insert(tk.END, create_feature_engineering_notebook() + \"\\n\")\n",
    "    \n",
    "def button_click5():\n",
    "    text.delete(\"1.0\", tk.END)\n",
    "    text.insert(tk.END, create_model_notebook() + \"\\n\")\n",
    "\n",
    "# Create four buttons\n",
    "button1 = tk.Button(window, text=\"Analyze notebooks for readability\", command=button_click1)\n",
    "button2 = tk.Button(window, text=\"Create an ETL notebook\", command=button_click2)\n",
    "button3 = tk.Button(window, text=\"Create an Data split notebook\", command=button_click3)\n",
    "button4 = tk.Button(window, text=\"Create a feature engineering notebook\", command=button_click4)\n",
    "button5 = tk.Button(window, text=\"Create a model notebook\", command=button_click5)\n",
    "\n",
    "# Create a text widget\n",
    "text = tk.Text(window)\n",
    "\n",
    "# Pack the buttons into the window\n",
    "button1.pack()\n",
    "button2.pack()\n",
    "button3.pack()\n",
    "button4.pack()\n",
    "button5.pack()\n",
    "text.pack()\n"
   ]
  },
  {
   "cell_type": "code",
   "execution_count": null,
   "id": "d26f9b1e",
   "metadata": {},
   "outputs": [],
   "source": []
  }
 ],
 "metadata": {
  "kernelspec": {
   "display_name": "Python 3 (ipykernel)",
   "language": "python",
   "name": "python3"
  },
  "language_info": {
   "codemirror_mode": {
    "name": "ipython",
    "version": 3
   },
   "file_extension": ".py",
   "mimetype": "text/x-python",
   "name": "python",
   "nbconvert_exporter": "python",
   "pygments_lexer": "ipython3",
   "version": "3.10.11"
  }
 },
 "nbformat": 4,
 "nbformat_minor": 5
}

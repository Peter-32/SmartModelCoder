{
 "cells": [
  {
   "cell_type": "code",
   "execution_count": 5,
   "id": "cb7e3182",
   "metadata": {},
   "outputs": [
    {
     "name": "stdout",
     "output_type": "stream",
     "text": [
      "Button clicked!\n",
      "Button clicked!\n",
      "Button clicked!\n"
     ]
    }
   ],
   "source": [
    "%gui tk\n",
    "%reload_ext autoreload\n",
    "%autoreload 2\n",
    "\n",
    "import tkinter as tk\n",
    "from backroom import *\n",
    "\n",
    "# Create a new window\n",
    "window = tk.Tk()\n",
    "\n",
    "# Function to handle button click event\n",
    "def button_click1():\n",
    "    text.delete(\"1.0\", tk.END)\n",
    "    text.insert(tk.END, analyze_notebooks_for_readability() + \"\\n\")\n",
    "def button_click():\n",
    "    print(\"Button clicked!\")\n",
    "    text.delete(\"1.0\", tk.END)\n",
    "    text.insert(tk.END, \"Notebook created.\" + \"\\n\")\n",
    "\n",
    "# Create four buttons\n",
    "button1 = tk.Button(window, text=\"Analyze notebooks for readability\", command=button_click1)\n",
    "button2 = tk.Button(window, text=\"Create an ETL Notebook\", command=button_click)\n",
    "button3 = tk.Button(window, text=\"Create new features\", command=button_click)\n",
    "button4 = tk.Button(window, text=\"Create a model\", command=button_click)\n",
    "\n",
    "# Create a text widget\n",
    "text = tk.Text(window)\n",
    "\n",
    "# Pack the buttons into the window\n",
    "button1.pack()\n",
    "button2.pack()\n",
    "button3.pack()\n",
    "button4.pack()\n",
    "text.pack()\n"
   ]
  },
  {
   "cell_type": "code",
   "execution_count": null,
   "id": "d26f9b1e",
   "metadata": {},
   "outputs": [],
   "source": []
  }
 ],
 "metadata": {
  "kernelspec": {
   "display_name": "Python 3 (ipykernel)",
   "language": "python",
   "name": "python3"
  },
  "language_info": {
   "codemirror_mode": {
    "name": "ipython",
    "version": 3
   },
   "file_extension": ".py",
   "mimetype": "text/x-python",
   "name": "python",
   "nbconvert_exporter": "python",
   "pygments_lexer": "ipython3",
   "version": "3.10.11"
  }
 },
 "nbformat": 4,
 "nbformat_minor": 5
}

{
 "cells": [
  {
   "cell_type": "code",
   "execution_count": 1,
   "id": "5ed1ca00",
   "metadata": {},
   "outputs": [],
   "source": [
    "#\n",
    "for cv_split in range(1,6):\n",
    "    # Read in the train_{cv_split}, validation_{cv_split}, and test\n",
    "    \n",
    "    # Create the new features\n",
    "    \n",
    "    break # Remove this break when this is tested\n",
    "    \n",
    "    # Select the key column and all new features\n",
    "    \n",
    "    # Save to a new CV file called 2.1_feature_engineering_cv_{cv_split}\n",
    "    # Append the validation and test set to this same CSV file"
   ]
  },
  {
   "cell_type": "code",
   "execution_count": null,
   "id": "ee385f79",
   "metadata": {},
   "outputs": [],
   "source": []
  }
 ],
 "metadata": {
  "kernelspec": {
   "display_name": "Python 3 (ipykernel)",
   "language": "python",
   "name": "python3"
  },
  "language_info": {
   "codemirror_mode": {
    "name": "ipython",
    "version": 3
   },
   "file_extension": ".py",
   "mimetype": "text/x-python",
   "name": "python",
   "nbconvert_exporter": "python",
   "pygments_lexer": "ipython3",
   "version": "3.10.11"
  }
 },
 "nbformat": 4,
 "nbformat_minor": 5
}

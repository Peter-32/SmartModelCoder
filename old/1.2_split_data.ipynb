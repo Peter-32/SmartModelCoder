{
 "cells": [
  {
   "cell_type": "code",
   "execution_count": null,
   "id": "447fbb1c",
   "metadata": {},
   "outputs": [],
   "source": [
    "# Read in CSV\n",
    "\n",
    "\n",
    "\n",
    "# Have a key column, De-dupe rows ensuring one row per key, and finalize clean up\n",
    "\n",
    "\n",
    "\n",
    "# Split the data into train1-5, validation1-5, and test (11 datasets)\n",
    "\n",
    "\n",
    "\n"
   ]
  },
  {
   "cell_type": "code",
   "execution_count": null,
   "id": "1b0cc83a",
   "metadata": {},
   "outputs": [],
   "source": []
  }
 ],
 "metadata": {
  "kernelspec": {
   "display_name": "Python 3 (ipykernel)",
   "language": "python",
   "name": "python3"
  },
  "language_info": {
   "codemirror_mode": {
    "name": "ipython",
    "version": 3
   },
   "file_extension": ".py",
   "mimetype": "text/x-python",
   "name": "python",
   "nbconvert_exporter": "python",
   "pygments_lexer": "ipython3",
   "version": "3.10.11"
  }
 },
 "nbformat": 4,
 "nbformat_minor": 5
}

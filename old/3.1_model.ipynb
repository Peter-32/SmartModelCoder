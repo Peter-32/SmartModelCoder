{
 "cells": [
  {
   "cell_type": "code",
   "execution_count": null,
   "id": "ccac137a",
   "metadata": {},
   "outputs": [],
   "source": [
    "evalution_results = []\n",
    "for cv_split in range(1, 6):\n",
    "    # Read in the train_{cv_split}, validation_{cv_split}, and test\n",
    "    \n",
    "    for feature_df in range(1, 20):\n",
    "        # Read in the features file for this cv_split\n",
    "        # Join it to the existing dataframes\n",
    "    \n",
    "    # Run the fit and predict\n",
    "    \n",
    "    # Compute the evaluation result (single number metric)\n",
    "    \n",
    "    # append to evalution_results\n",
    "    \n",
    "# Check the evaluation results of all 5 results in evalution_results\n",
    "    \n",
    "    \n"
   ]
  },
  {
   "cell_type": "code",
   "execution_count": null,
   "id": "b41b5df2",
   "metadata": {},
   "outputs": [],
   "source": []
  }
 ],
 "metadata": {
  "kernelspec": {
   "display_name": "Python 3 (ipykernel)",
   "language": "python",
   "name": "python3"
  },
  "language_info": {
   "codemirror_mode": {
    "name": "ipython",
    "version": 3
   },
   "file_extension": ".py",
   "mimetype": "text/x-python",
   "name": "python",
   "nbconvert_exporter": "python",
   "pygments_lexer": "ipython3",
   "version": "3.10.11"
  }
 },
 "nbformat": 4,
 "nbformat_minor": 5
}
